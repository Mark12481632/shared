{
 "cells": [
  {
   "cell_type": "code",
   "execution_count": 1,
   "metadata": {},
   "outputs": [],
   "source": [
    "import numpy as np"
   ]
  },
  {
   "cell_type": "markdown",
   "metadata": {},
   "source": [
    "## Universal Functions"
   ]
  },
  {
   "cell_type": "code",
   "execution_count": 2,
   "metadata": {},
   "outputs": [
    {
     "name": "stdout",
     "output_type": "stream",
     "text": [
      "[0 1 2 3 4 5 6 7 8 9]\n"
     ]
    }
   ],
   "source": [
    "arr = np.arange(10)\n",
    "print(arr)"
   ]
  },
  {
   "cell_type": "code",
   "execution_count": 3,
   "metadata": {},
   "outputs": [
    {
     "name": "stdout",
     "output_type": "stream",
     "text": [
      "1 [ 0  3  6  9 12 15 18 21 24 27]\n",
      "2 [ 5  6  7  8  9 10 11 12 13 14]\n",
      "3 [-7 -6 -5 -4 -3 -2 -1  0  1  2]\n",
      "4 [0.  0.2 0.4 0.6 0.8 1.  1.2 1.4 1.6 1.8]\n",
      "5 [0 1 2 3 0 1 2 3 0 1]\n",
      "6 [0 0 0 0 0 1 1 1 1 1]\n",
      "7 [ 0  1  4  9 16 25 36 49 64 81]\n",
      "8 [ 10  15  30  55  90 135 190 255 330 415]\n"
     ]
    }
   ],
   "source": [
    "# Numeric operations\n",
    "print('1', arr * 3)\n",
    "print('2', arr + 5)\n",
    "print('3', arr - 7)\n",
    "print('4', arr / 5)\n",
    "print('5', arr % 4)\n",
    "print('6', arr // 5)\n",
    "print('7', arr ** 2)\n",
    "print('8', (arr ** 2 + 2) * 5)"
   ]
  },
  {
   "cell_type": "code",
   "execution_count": 4,
   "metadata": {},
   "outputs": [
    {
     "name": "stdout",
     "output_type": "stream",
     "text": [
      "[-8 -7 -6 -5 -4 -3 -2 -1  0  1  2  3  4  5  6  7]\n",
      "[8 7 6 5 4 3 2 1 0 1 2 3 4 5 6 7]\n"
     ]
    }
   ],
   "source": [
    "# functions\n",
    "arr = np.arange(-8, 8)\n",
    "print(arr)\n",
    "print(np.abs(arr))"
   ]
  },
  {
   "cell_type": "code",
   "execution_count": 5,
   "metadata": {},
   "outputs": [
    {
     "name": "stdout",
     "output_type": "stream",
     "text": [
      "[0.         0.78539816 1.57079633 2.35619449 3.14159265]\n",
      "==\n",
      "[0.00000000e+00 7.07106781e-01 1.00000000e+00 7.07106781e-01\n",
      " 1.22464680e-16]\n",
      "\n",
      "[ 1.00000000e+00  7.07106781e-01  6.12323400e-17 -7.07106781e-01\n",
      " -1.00000000e+00]\n",
      "\n",
      "[ 0.00000000e+00  1.00000000e+00  1.63312394e+16 -1.00000000e+00\n",
      " -1.22464680e-16]\n"
     ]
    }
   ],
   "source": [
    "angles = np.linspace(0, np.pi, 5)\n",
    "print(angles)\n",
    "print(\"==\")\n",
    "print(np.sin(angles))\n",
    "print()\n",
    "print(np.cos(angles))\n",
    "print()\n",
    "print(np.tan(angles))"
   ]
  },
  {
   "cell_type": "code",
   "execution_count": 6,
   "metadata": {},
   "outputs": [
    {
     "name": "stdout",
     "output_type": "stream",
     "text": [
      "[-1.  -0.5  0.   0.5  1. ]\n",
      "==\n",
      "[-1.57079633 -0.52359878  0.          0.52359878  1.57079633]\n",
      "\n",
      "[3.14159265 2.0943951  1.57079633 1.04719755 0.        ]\n",
      "\n",
      "[-0.78539816 -0.46364761  0.          0.46364761  0.78539816]\n"
     ]
    }
   ],
   "source": [
    "values = np.linspace(-1, 1, 5)\n",
    "print(values)\n",
    "print(\"==\")\n",
    "print(np.arcsin(values))\n",
    "print()\n",
    "print(np.arccos(values))\n",
    "print()\n",
    "print(np.arctan(values))"
   ]
  },
  {
   "cell_type": "code",
   "execution_count": 7,
   "metadata": {},
   "outputs": [
    {
     "name": "stdout",
     "output_type": "stream",
     "text": [
      "[ 1.          1.47368421  1.94736842  2.42105263  2.89473684  3.36842105\n",
      "  3.84210526  4.31578947  4.78947368  5.26315789  5.73684211  6.21052632\n",
      "  6.68421053  7.15789474  7.63157895  8.10526316  8.57894737  9.05263158\n",
      "  9.52631579 10.        ]\n",
      "\n",
      "[0.         0.38776553 0.66647893 0.88420242 1.06289421 1.2144441\n",
      " 1.34602046 1.46228027 1.56642053 1.66073121 1.7469089  1.82624565\n",
      " 1.89974811 1.96821591 2.03229476 2.09251362 2.14931122 2.2030555\n",
      " 2.25405805 2.30258509]\n",
      "\n",
      "[0.         0.55942741 0.96152585 1.27563444 1.5334322  1.75207249\n",
      " 1.94189705 2.10962449 2.25986713 2.39592868 2.52025681 2.63471554\n",
      " 2.74075717 2.83953533 2.93198158 3.01885903 3.10080064 3.17833724\n",
      " 3.25191837 3.32192809]\n",
      "\n",
      "[0.         0.16840443 0.28944812 0.38400423 0.46160909 0.52742637\n",
      " 0.58456926 0.63506025 0.68028779 0.7212464  0.7586729  0.79312841\n",
      " 0.82505012 0.85478531 0.8826144  0.90876712 0.933434   0.95677485\n",
      " 0.97892497 1.        ]\n",
      "\n",
      "[2.71828183e+00 4.36528819e+00 7.01021535e+00 1.12577033e+01\n",
      " 1.80787433e+01 2.90326498e+01 4.66235260e+01 7.48727102e+01\n",
      " 1.20238069e+02 1.93090288e+02 3.10083652e+02 4.97963268e+02\n",
      " 7.99679103e+02 1.28420450e+03 2.06230372e+03 3.31185309e+03\n",
      " 5.31850415e+03 8.54098465e+03 1.37159654e+04 2.20264658e+04]\n"
     ]
    }
   ],
   "source": [
    "arr = np.linspace(1, 10, 20)\n",
    "print(arr)\n",
    "print()\n",
    "print(np.log(arr))\n",
    "print()\n",
    "print(np.log2(arr))\n",
    "print()\n",
    "print(np.log10(arr))\n",
    "print()\n",
    "print(np.exp(arr))"
   ]
  },
  {
   "cell_type": "code",
   "execution_count": 8,
   "metadata": {},
   "outputs": [
    {
     "name": "stdout",
     "output_type": "stream",
     "text": [
      "Add reduce: 15\n",
      "Mult reduce: 120\n",
      "Add accum.: [ 1  3  6 10 15]\n",
      "Mult accum.: [  1   2   6  24 120]\n"
     ]
    }
   ],
   "source": [
    "# Aggregate functions:\n",
    "arr = np.array(range(1, 6))\n",
    "print('Add reduce:', np.add.reduce(arr))\n",
    "print('Mult reduce:', np.multiply.reduce(arr))\n",
    "print('Add accum.:', np.add.accumulate(arr))\n",
    "print('Mult accum.:', np.multiply.accumulate(arr))"
   ]
  },
  {
   "cell_type": "code",
   "execution_count": 9,
   "metadata": {},
   "outputs": [
    {
     "name": "stdout",
     "output_type": "stream",
     "text": [
      "[[[[ 0  0  0  0  0  0  0]]\n",
      "\n",
      "  [[ 0  1  2  3  4  5  6]]\n",
      "\n",
      "  [[ 0  2  4  6  8 10 12]]\n",
      "\n",
      "  [[ 0  3  6  9 12 15 18]]\n",
      "\n",
      "  [[ 0  4  8 12 16 20 24]]\n",
      "\n",
      "  [[ 0  5 10 15 20 25 30]]\n",
      "\n",
      "  [[ 0  6 12 18 24 30 36]]]]\n"
     ]
    }
   ],
   "source": [
    "# Outer Product\n",
    "arr = np.array(range(7)).reshape(1,7)\n",
    "print(np.multiply.outer(arr, arr))"
   ]
  },
  {
   "cell_type": "code",
   "execution_count": 10,
   "metadata": {},
   "outputs": [
    {
     "name": "stdout",
     "output_type": "stream",
     "text": [
      "Same: 21 21\n",
      "Same: 0 0\n",
      "Same: 6 6\n"
     ]
    }
   ],
   "source": [
    "# ufnctions can also exist as methods (not always):\n",
    "print('Same:', np.sum(arr), arr.sum())\n",
    "print('Same:', np.min(arr), arr.min())\n",
    "print('Same:', np.max(arr), arr.max())"
   ]
  }
 ],
 "metadata": {
  "kernelspec": {
   "display_name": "Python 3",
   "language": "python",
   "name": "python3"
  },
  "language_info": {
   "codemirror_mode": {
    "name": "ipython",
    "version": 3
   },
   "file_extension": ".py",
   "mimetype": "text/x-python",
   "name": "python",
   "nbconvert_exporter": "python",
   "pygments_lexer": "ipython3",
   "version": "3.7.7"
  }
 },
 "nbformat": 4,
 "nbformat_minor": 4
}
