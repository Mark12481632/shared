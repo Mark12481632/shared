{
 "cells": [
  {
   "cell_type": "code",
   "execution_count": 50,
   "metadata": {},
   "outputs": [],
   "source": [
    "import numpy as np\n",
    "import random as rnd\n",
    "import matplotlib.pyplot as plt"
   ]
  },
  {
   "cell_type": "code",
   "execution_count": 2,
   "metadata": {},
   "outputs": [
    {
     "name": "stdout",
     "output_type": "stream",
     "text": [
      "[[1 2 3]\n",
      " [2 3 4]\n",
      " [3 4 5]\n",
      " [4 5 6]\n",
      " [5 6 7]]\n"
     ]
    }
   ],
   "source": [
    "arr = np.array([range(x+1, x+4) for x in range(5)])\n",
    "print(arr)"
   ]
  },
  {
   "cell_type": "code",
   "execution_count": 3,
   "metadata": {},
   "outputs": [
    {
     "name": "stdout",
     "output_type": "stream",
     "text": [
      "1 7\n"
     ]
    }
   ],
   "source": [
    "print(np.min(arr), np.max(arr))"
   ]
  },
  {
   "cell_type": "code",
   "execution_count": 4,
   "metadata": {},
   "outputs": [
    {
     "name": "stdout",
     "output_type": "stream",
     "text": [
      "[1 2 3] [5 6 7]\n",
      "[1 2 3 4 5] [3 4 5 6 7]\n"
     ]
    }
   ],
   "source": [
    "# Determine min/max column by column or row by row respectively:\n",
    "print(np.min(arr, axis=0), np.max(arr, axis=0))\n",
    "print(np.min(arr, axis=1), np.max(arr, axis=1))"
   ]
  },
  {
   "cell_type": "code",
   "execution_count": 5,
   "metadata": {},
   "outputs": [
    {
     "name": "stdout",
     "output_type": "stream",
     "text": [
      "Product of elements           : 217728000 [ 120  720 2520] [  6  24  60 120 210]\n",
      "Mean of elements              : 4.0 [3. 4. 5.] [2. 3. 4. 5. 6.]\n",
      "Standard Deviation of elements: 1.632993161855452 [1.41421356 1.41421356 1.41421356] [0.81649658 0.81649658 0.81649658 0.81649658 0.81649658]\n",
      "Variance of elements          : 2.6666666666666665 [2. 2. 2.] [0.66666667 0.66666667 0.66666667 0.66666667 0.66666667]\n",
      "maximim Argument of elements  : 14 [4 4 4] [2 2 2 2 2]\n",
      "Minimum Argument of elements  : 0 [0 0 0] [0 0 0 0 0]\n",
      "Median of elements            : 4.0 [3. 4. 5.] [2. 3. 4. 5. 6.]\n",
      "Standard Deviation of elements: 217728000 [ 120  720 2520] [  6  24  60 120 210]\n",
      "\"Any\" of elements             : True [ True  True  True] [ True  True  True  True  True]\n",
      "\"All\" of elements             : True [ True  True  True] [ True  True  True  True  True]\n"
     ]
    }
   ],
   "source": [
    "# Other ufunctions...\n",
    "# Note: Many of these have a nan safe version (e.g. np.nansum() or np.nanproduct())\n",
    "print('Product of elements           :', arr.prod(), arr.prod(axis=0), arr.prod(axis=1))\n",
    "print('Mean of elements              :', arr.mean(), arr.mean(axis=0), arr.mean(axis=1))\n",
    "print('Standard Deviation of elements:', arr.std(), arr.std(axis=0), arr.std(axis=1))\n",
    "print('Variance of elements          :', arr.var(), arr.var(axis=0), arr.var(axis=1))\n",
    "print('maximim Argument of elements  :', arr.argmax(), arr.argmax(axis=0), arr.argmax(axis=1))\n",
    "print('Minimum Argument of elements  :', arr.argmin(), arr.argmin(axis=0), arr.argmin(axis=1))\n",
    "print('Median of elements            :', np.median(arr), np.median(arr, axis=0), np.median(arr, axis=1))        # Note differencw here!\n",
    "print('Standard Deviation of elements:', arr.prod(), arr.prod(axis=0), arr.prod(axis=1))\n",
    "print('\"Any\" of elements             :', arr.any(), arr.any(axis=0), arr.any(axis=1))    # Any elements True (or non zero\n",
    "print('\"All\" of elements             :', arr.all(), arr.all(axis=0), arr.all(axis=1))    # All elements True of non zero"
   ]
  },
  {
   "cell_type": "markdown",
   "metadata": {},
   "source": [
    "## <B>Broadcasting</B>"
   ]
  },
  {
   "cell_type": "code",
   "execution_count": 6,
   "metadata": {},
   "outputs": [
    {
     "name": "stdout",
     "output_type": "stream",
     "text": [
      "[[7 1 5 1]\n",
      " [6 6 9 6]\n",
      " [1 9 9 6]]\n",
      "\n",
      "[[10  4  8  4]\n",
      " [ 9  9 12  9]\n",
      " [ 4 12 12  9]]\n",
      "\n",
      "[[28  4 20  4]\n",
      " [24 24 36 24]\n",
      " [ 4 36 36 24]]\n",
      "\n",
      "[[7 8 1 7]\n",
      " [2 1 4 6]\n",
      " [4 2 8 2]]\n",
      "\n",
      "[[14  9  6  8]\n",
      " [ 8  7 13 12]\n",
      " [ 5 11 17  8]]\n",
      "\n"
     ]
    }
   ],
   "source": [
    "np.random.seed(432)\n",
    "arr1 = np.random.randint(1, 10, (3,4))\n",
    "arr2 = np.random.randint(1, 10, (3,4))\n",
    "\n",
    "print(arr1)\n",
    "print()\n",
    "print(arr1 + 3)\n",
    "print()\n",
    "print(4 * arr1)\n",
    "print()\n",
    "print(arr2)\n",
    "print()\n",
    "print(arr1 + arr2)\n",
    "print()"
   ]
  },
  {
   "cell_type": "code",
   "execution_count": 7,
   "metadata": {},
   "outputs": [
    {
     "name": "stdout",
     "output_type": "stream",
     "text": [
      "[[19 14 19 16]\n",
      " [18 19 23 21]\n",
      " [13 22 23 21]]\n",
      "\n",
      "[[ 77  11  55  11]\n",
      " [ 66  66  99  66]\n",
      " [ 12 108 108  72]]\n"
     ]
    }
   ],
   "source": [
    "arr3 = np.array([12, 13, 14, 15])\n",
    "arr4 = np.array([11, 11, 12]).reshape(3,1)\n",
    "\n",
    "print(arr1 + arr3)\n",
    "print()\n",
    "print(arr1 * arr4)"
   ]
  },
  {
   "cell_type": "code",
   "execution_count": 8,
   "metadata": {},
   "outputs": [
    {
     "name": "stdout",
     "output_type": "stream",
     "text": [
      "[[1 2 3 4 5]]\n",
      "[[2]\n",
      " [2]\n",
      " [7]]\n",
      "\n",
      "[[ 3  4  5  6  7]\n",
      " [ 3  4  5  6  7]\n",
      " [ 8  9 10 11 12]]\n",
      "\n",
      "[[ 2  4  6  8 10]\n",
      " [ 2  4  6  8 10]\n",
      " [ 7 14 21 28 35]]\n",
      "\n",
      "[[ 2  4  6  8 10]\n",
      " [ 2  4  6  8 10]\n",
      " [ 7 14 21 28 35]]\n"
     ]
    }
   ],
   "source": [
    "arr1 = np.array([1,2,3,4,5]).reshape(1,5)\n",
    "arr2 = np.array([2,2,7]).reshape(3,1)\n",
    "\n",
    "print(arr1)\n",
    "print(arr2)\n",
    "print()\n",
    "print(arr1 + arr2)\n",
    "print()\n",
    "print(arr1 * arr2)\n",
    "print()\n",
    "print(np.outer(arr2, arr1))"
   ]
  },
  {
   "cell_type": "code",
   "execution_count": 9,
   "metadata": {},
   "outputs": [
    {
     "name": "stdout",
     "output_type": "stream",
     "text": [
      "[[  5.8    3.35  -0.15  -3.35  -0.1 ]\n",
      " [  3.35  32.2   16.7  -11.7  -18.7 ]\n",
      " [ -0.15  16.7   10.7   -3.2   -9.95]\n",
      " [ -3.35 -11.7   -3.2    9.7    5.45]\n",
      " [ -0.1  -18.7   -9.95   5.45  12.7 ]]\n",
      "\n",
      "[[ 1.          0.24513362 -0.01904081 -0.44662697 -0.01165156]\n",
      " [ 0.24513362  1.          0.89969778 -0.66202145 -0.92472332]\n",
      " [-0.01904081  0.89969778  1.         -0.3141031  -0.85355072]\n",
      " [-0.44662697 -0.66202145 -0.3141031   1.          0.49103085]\n",
      " [-0.01165156 -0.92472332 -0.85355072  0.49103085  1.        ]]\n"
     ]
    }
   ],
   "source": [
    "arr = np.random.randint(0,12, (5,5))\n",
    "print(np.cov(arr))\n",
    "print()\n",
    "print(np.corrcoef(arr))"
   ]
  },
  {
   "cell_type": "code",
   "execution_count": 10,
   "metadata": {},
   "outputs": [
    {
     "name": "stdout",
     "output_type": "stream",
     "text": [
      "[[1 2 3 4 5]\n",
      " [2 3 4 5 6]\n",
      " [3 4 5 6 7]\n",
      " [4 5 6 7 8]\n",
      " [5 6 7 8 9]]\n",
      "[[1.         0.99093776 0.97890737 0.96892208 0.96098313]\n",
      " [0.99093776 1.         0.99745208 0.99327776 0.98926117]\n",
      " [0.97890737 0.99745208 1.         0.99900082 0.99715233]\n",
      " [0.96892208 0.99327776 0.99900082 1.         0.99952547]\n",
      " [0.96098313 0.98926117 0.99715233 0.99952547 1.        ]]\n",
      "[[1. 1. 1. 1. 1.]\n",
      " [1. 1. 1. 1. 1.]\n",
      " [1. 1. 1. 1. 1.]\n",
      " [1. 1. 1. 1. 1.]\n",
      " [1. 1. 1. 1. 1.]]\n"
     ]
    }
   ],
   "source": [
    "arr1 = np.array([range(x+1, x+6) for x in range(5)])\n",
    "print(arr1)\n",
    "print(np.corrcoef(1/arr1))\n",
    "print(np.corrcoef(arr1))"
   ]
  },
  {
   "cell_type": "code",
   "execution_count": 11,
   "metadata": {},
   "outputs": [
    {
     "name": "stdout",
     "output_type": "stream",
     "text": [
      "55\n"
     ]
    },
    {
     "data": {
      "text/plain": [
       "array([[55]])"
      ]
     },
     "execution_count": 11,
     "metadata": {},
     "output_type": "execute_result"
    }
   ],
   "source": [
    "arr1 = np.array([1,2,3,4])\n",
    "arr2 = np.array([3,1,6,8])\n",
    "print(np.dot(arr1, arr2))\n",
    "\n",
    "arr1 = arr1.reshape(1,4)\n",
    "arr2 = arr2.reshape(1,4)\n",
    "np.dot(arr1, arr2.T)"
   ]
  },
  {
   "cell_type": "markdown",
   "metadata": {},
   "source": [
    "## <B>Booleans</B>\n",
    "Numpy logical operators use the bit-wise logical operators of Python!  These operator have been overloaded by Numpy as UFunctions..\n",
    "<br/>\n",
    "Note: Operators: and or are meant as boolean operators that operate on True & False operands.  They also \"short circuit\".<br/>\n",
    "      Operatoes: & | are meant as bit-wise operators that operate on bit value operands.  They don't \"short circuit\""
   ]
  },
  {
   "cell_type": "code",
   "execution_count": 12,
   "metadata": {},
   "outputs": [
    {
     "name": "stdout",
     "output_type": "stream",
     "text": [
      "Not: -0b101110100\n",
      "And: 0b101100010\n",
      "Or : 0b111110011\n",
      "XOR: 0b10010001\n"
     ]
    }
   ],
   "source": [
    "x = 0b101110011\n",
    "y = 0b111100010\n",
    "print('Not:',bin(~x))\n",
    "print('And:', bin(x & y))\n",
    "print('Or :', bin(x | y))\n",
    "print('XOR:', bin(x^y))"
   ]
  },
  {
   "cell_type": "code",
   "execution_count": 13,
   "metadata": {},
   "outputs": [
    {
     "name": "stdout",
     "output_type": "stream",
     "text": [
      "[[3 1 1 9 0 7]\n",
      " [3 0 2 5 2 4]\n",
      " [4 5 5 9 5 4]\n",
      " [8 5 9 2 9 5]\n",
      " [0 0 2 6 3 6]]\n",
      "16 [4 3 3 1 3 2] [4 5 2 1 4]\n",
      "\n",
      "[[ True False False False False  True]\n",
      " [ True False False  True False  True]\n",
      " [ True  True  True False  True  True]\n",
      " [False  True False False False  True]\n",
      " [False False False  True  True  True]]\n",
      "\n",
      "[3 7 3 5 4 4 5 5 5 4 5 5 6 3 6]\n"
     ]
    }
   ],
   "source": [
    "arr = np.random.randint(0, 10, (5,6))\n",
    "print(arr)\n",
    "\n",
    "# count entries less than 5:\n",
    "print(np.sum(arr < 5), np.sum(arr < 5, axis=0), np.sum(arr < 5, axis=1))\n",
    "print()\n",
    "\n",
    "# Show entries between 3 and 7 inclusive - can't use \"and\", must use &\n",
    "result = (arr >= 3) & (arr <= 7)\n",
    "print(result)\n",
    "print()\n",
    "print(arr[result])"
   ]
  },
  {
   "cell_type": "code",
   "execution_count": 14,
   "metadata": {},
   "outputs": [
    {
     "name": "stdout",
     "output_type": "stream",
     "text": [
      "[[6 3 1 8 0]\n",
      " [0 6 6 7 2]\n",
      " [9 0 1 6 8]\n",
      " [9 9 8 7 1]]\n",
      "[[ 6  0  0 -1  0]\n",
      " [ 0  6  6  7  0]\n",
      " [-1  0  0  6 -1]\n",
      " [-1 -1 -1  7  0]]\n",
      "[[ 6  0  0 -1  0]\n",
      " [ 0  6  6  7  0]\n",
      " [ 6  0  0 -1  0]\n",
      " [ 0  6  6  7  0]\n",
      " [ 6  0  0 -1  0]\n",
      " [ 0  6  6  7  0]\n",
      " [ 6  0  0 -1  0]\n",
      " [ 0  6  6  7  0]\n",
      " [ 6  0  0 -1  0]\n",
      " [ 0  6  6  7  0]\n",
      " [ 6  0  0 -1  0]\n",
      " [ 0  6  6  7  0]\n",
      " [ 6  0  0 -1  0]\n",
      " [ 0  6  6  7  0]\n",
      " [ 6  0  0 -1  0]\n",
      " [ 0  6  6  7  0]\n",
      " [ 6  0  0 -1  0]\n",
      " [ 0  6  6  7  0]\n",
      " [ 6  0  0 -1  0]\n",
      " [ 0  6  6  7  0]]\n"
     ]
    }
   ],
   "source": [
    "arr = np.random.randint(0, 10, (4,5))\n",
    "print(arr)\n",
    "\n",
    "arr[arr<5] = 0\n",
    "arr[arr>7] = -1\n",
    "print(arr)\n",
    "\n",
    "index = np.array([x%2 for x in range(20)])\n",
    "print(arr[index])"
   ]
  },
  {
   "cell_type": "code",
   "execution_count": 15,
   "metadata": {},
   "outputs": [
    {
     "name": "stdout",
     "output_type": "stream",
     "text": [
      "[2 9 5 4 0 9 9 5 3 9 2 3]\n",
      "[4 5 5 9 5]\n",
      "\n",
      "[[1 6 8 6 9 5]\n",
      " [9 3 2 3 2 6]\n",
      " [6 8 9 6 7 4]\n",
      " [5 4 4 3 3 9]\n",
      " [7 7 1 2 9 5]]\n",
      "[9 4 5]\n",
      "\n",
      "3\n",
      "[3 3]\n"
     ]
    }
   ],
   "source": [
    "# Fancy Indexing ....\n",
    "arr = np.random.randint(0, 10, 12)\n",
    "print(arr)\n",
    "\n",
    "ind = [3,2,7,1,2]\n",
    "print(arr[ind])\n",
    "print()\n",
    "                        \n",
    "arr = np.random.randint(0, 10, (5,6))\n",
    "print(arr)\n",
    "\n",
    "rows = np.array([1,3,4])\n",
    "cols = np.array([0,2,5])\n",
    "print(arr[rows, cols])\n",
    "print()\n",
    "print(arr[1,1])\n",
    "print(arr[[1,3],[1,4]])"
   ]
  },
  {
   "cell_type": "code",
   "execution_count": 22,
   "metadata": {},
   "outputs": [
    {
     "name": "stdout",
     "output_type": "stream",
     "text": [
      "[[1 6 8 6 9 5]\n",
      " [9 3 2 3 2 6]\n",
      " [6 8 9 6 7 4]\n",
      " [5 4 4 3 3 9]\n",
      " [7 7 1 2 9 5]]\n",
      "\n",
      "[[6 3 4]\n",
      " [6 3 3]\n",
      " [9 2 3]]\n"
     ]
    }
   ],
   "source": [
    "# Braodcasting with indices:\n",
    "rows = np.array([0,1,3]).reshape(1,3)\n",
    "cols = np.array([1,3,4]).reshape(3,1)\n",
    "print(arr)\n",
    "print()\n",
    "# Match each row with each column: ((0,1), (1,1), (3,1)),((0,3), (1,3), (3,3)), ((0,4), (1,4), (3,4))\n",
    "print(arr[rows,cols])"
   ]
  },
  {
   "cell_type": "code",
   "execution_count": 41,
   "metadata": {},
   "outputs": [
    {
     "data": {
      "text/plain": [
       "array([[ 0,  1,  2,  3,  4,  5,  6,  7,  8,  9],\n",
       "       [10, 11, 12, 13, 14, 15, 16, 17, 18, 19],\n",
       "       [20, 21, 22, 23, 24, 25, 26, 27, 28, 29]])"
      ]
     },
     "execution_count": 41,
     "metadata": {},
     "output_type": "execute_result"
    }
   ],
   "source": [
    "arr = np.array([range(30)]).reshape(3,10)\n",
    "arr"
   ]
  },
  {
   "cell_type": "code",
   "execution_count": 48,
   "metadata": {},
   "outputs": [
    {
     "name": "stdout",
     "output_type": "stream",
     "text": [
      "[[ 6  3  2]\n",
      " [16 13 12]\n",
      " [26 23 22]]\n",
      "\n",
      "[[[ 6  3  2]\n",
      "  [ 7  8  9]\n",
      "  [ 0  1  7]]\n",
      "\n",
      " [[16 13 12]\n",
      "  [17 18 19]\n",
      "  [10 11 17]]]\n"
     ]
    }
   ],
   "source": [
    "print(arr[:,[6,3,2]])\n",
    "print()\n",
    "indexes = np.array([[6,3,2],[7,8,9],[0,1,7]])\n",
    "print(arr[0:2, indexes])"
   ]
  },
  {
   "cell_type": "code",
   "execution_count": 61,
   "metadata": {},
   "outputs": [
    {
     "name": "stdout",
     "output_type": "stream",
     "text": [
      "[[1 2]\n",
      " [2 3]\n",
      " [7 6]]\n"
     ]
    }
   ],
   "source": [
    "# If we apply .reshape(1,20) to \"arr\" it won't work!!\n",
    "arr = np.array(range(20))\n",
    "ind = np.array([[1, 2], [2, 3], [7, 6]])\n",
    "\n",
    "print(arr[ind])"
   ]
  },
  {
   "cell_type": "markdown",
   "metadata": {
    "jupyter": {
     "source_hidden": true
    }
   },
   "source": [
    "## Selecting Random Points"
   ]
  },
  {
   "cell_type": "code",
   "execution_count": 55,
   "metadata": {},
   "outputs": [
    {
     "name": "stdout",
     "output_type": "stream",
     "text": [
      "(100, 2)\n"
     ]
    },
    {
     "data": {
      "text/plain": [
       "<matplotlib.collections.PathCollection at 0x7f934e901bd0>"
      ]
     },
     "execution_count": 55,
     "metadata": {},
     "output_type": "execute_result"
    },
    {
     "data": {
      "image/png": "[encoded data removed]",
      "text/plain": [
       "<Figure size 432x288 with 1 Axes>"
      ]
     },
     "metadata": {},
     "output_type": "display_data"
    }
   ],
   "source": [
    "mean = [0,1]\n",
    "cov = [[1,2],[2,5]]\n",
    "\n",
    "X = np.random.multivariate_normal(mean, cov, 100)\n",
    "print(X.shape)\n",
    "\n",
    "import seaborn\n",
    "seaborn.set()\n",
    "\n",
    "plt.scatter(X[:, 0], X[:, 1])"
   ]
  },
  {
   "cell_type": "code",
   "execution_count": 56,
   "metadata": {},
   "outputs": [
    {
     "name": "stdout",
     "output_type": "stream",
     "text": [
      "[22 30 91 77 32 94 63  5 17  8 95 20 15 26 38 48 93 60 96 65]\n"
     ]
    }
   ],
   "source": [
    "# select 20 random points\n",
    "indices = np.random.choice(X.shape[0], 20, replace=False)\n",
    "print(indices)"
   ]
  },
  {
   "cell_type": "code",
   "execution_count": 76,
   "metadata": {},
   "outputs": [
    {
     "name": "stdout",
     "output_type": "stream",
     "text": [
      "[[7 5 0 7 8]\n",
      " [5 8 7 0 3]\n",
      " [5 6 7 5 8]]\n",
      "\n",
      "[[ True False False  True  True]\n",
      " [False  True  True False False]\n",
      " [False  True  True False  True]]\n",
      "\n",
      "[7 7 8 8 7 6 7 8]\n",
      "\n",
      "[[7 0 8]\n",
      " [5 7 3]\n",
      " [5 7 8]]\n"
     ]
    }
   ],
   "source": [
    "arr = np.random.randint(0, 10, [3, 5])\n",
    "print(arr)\n",
    "print()\n",
    "x = arr > 5\n",
    "print(x)\n",
    "print()\n",
    "print(arr[x])\n",
    "print()\n",
    "print(arr[:,[True, False, True, False, True]])"
   ]
  },
  {
   "cell_type": "code",
   "execution_count": null,
   "metadata": {},
   "outputs": [],
   "source": []
  }
 ],
 "metadata": {
  "kernelspec": {
   "display_name": "Python 3",
   "language": "python",
   "name": "python3"
  },
  "language_info": {
   "codemirror_mode": {
    "name": "ipython",
    "version": 3
   },
   "file_extension": ".py",
   "mimetype": "text/x-python",
   "name": "python",
   "nbconvert_exporter": "python",
   "pygments_lexer": "ipython3",
   "version": "3.7.7"
  }
 },
 "nbformat": 4,
 "nbformat_minor": 4
}
