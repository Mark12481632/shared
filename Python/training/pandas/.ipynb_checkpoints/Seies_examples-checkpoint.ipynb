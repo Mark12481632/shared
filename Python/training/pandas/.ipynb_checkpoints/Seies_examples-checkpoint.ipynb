{
 "cells": [
  {
   "cell_type": "code",
   "execution_count": 1,
   "metadata": {},
   "outputs": [],
   "source": [
    "import numpy as np\n",
    "import pandas as pd"
   ]
  },
  {
   "cell_type": "code",
   "execution_count": 2,
   "metadata": {},
   "outputs": [
    {
     "name": "stdout",
     "output_type": "stream",
     "text": [
      "1.0.5 1.18.5\n"
     ]
    }
   ],
   "source": [
    "print(pd.__version__, np.__version__)"
   ]
  },
  {
   "cell_type": "markdown",
   "metadata": {},
   "source": [
    "<B>Create a Series.  Very much like a Python Dictionary with a key nnd a value.\n",
    "Has homogeneous data type.</B>"
   ]
  },
  {
   "cell_type": "code",
   "execution_count": 3,
   "metadata": {},
   "outputs": [
    {
     "data": {
      "text/plain": [
       "col_1    101\n",
       "col_2    102\n",
       "col_3    103\n",
       "dtype: int64"
      ]
     },
     "execution_count": 3,
     "metadata": {},
     "output_type": "execute_result"
    }
   ],
   "source": [
    "dict = {'col_1':101, 'col_2':102, 'col_3':103}\n",
    "s = pd.Series(dict)\n",
    "\n",
    "s"
   ]
  },
  {
   "cell_type": "code",
   "execution_count": 4,
   "metadata": {},
   "outputs": [
    {
     "name": "stdout",
     "output_type": "stream",
     "text": [
      "103 103\n"
     ]
    }
   ],
   "source": [
    "print(s[2], s['col_3'])"
   ]
  },
  {
   "cell_type": "code",
   "execution_count": 5,
   "metadata": {},
   "outputs": [
    {
     "name": "stdout",
     "output_type": "stream",
     "text": [
      "Key ot Index vales: Index(['col_1', 'col_2', 'col_3'], dtype='object')\n",
      "Vales: <PandasArray>\n",
      "[101, 102, 103]\n",
      "Length: 3, dtype: int64\n"
     ]
    }
   ],
   "source": [
    "print('Key ot Index vales:', s.index)\n",
    "print('Vales:', s.array)   # Can use \"values\" to be consistent with older versions of pd"
   ]
  },
  {
   "cell_type": "markdown",
   "metadata": {},
   "source": [
    "Change values in entries"
   ]
  },
  {
   "cell_type": "code",
   "execution_count": 6,
   "metadata": {},
   "outputs": [
    {
     "data": {
      "text/plain": [
       "col_1    1100\n",
       "col_2     102\n",
       "col_3     103\n",
       "dtype: int64"
      ]
     },
     "execution_count": 6,
     "metadata": {},
     "output_type": "execute_result"
    }
   ],
   "source": [
    "s['col_1'] = 1100\n",
    "\n",
    "s"
   ]
  },
  {
   "cell_type": "code",
   "execution_count": 7,
   "metadata": {},
   "outputs": [
    {
     "data": {
      "text/plain": [
       "0    1\n",
       "1    2\n",
       "2    3\n",
       "3    4\n",
       "4    5\n",
       "5    6\n",
       "dtype: int64"
      ]
     },
     "execution_count": 7,
     "metadata": {},
     "output_type": "execute_result"
    }
   ],
   "source": [
    "ser = pd.Series([1,2,3,4,5,6])\n",
    "\n",
    "ser"
   ]
  },
  {
   "cell_type": "code",
   "execution_count": 8,
   "metadata": {},
   "outputs": [
    {
     "name": "stdout",
     "output_type": "stream",
     "text": [
      "Key ot Index vales: RangeIndex(start=0, stop=6, step=1)\n",
      "Vales: [1 2 3 4 5 6]\n"
     ]
    }
   ],
   "source": [
    "print('Key ot Index vales:', ser.index)\n",
    "print('Vales:', ser.values)"
   ]
  },
  {
   "cell_type": "code",
   "execution_count": 9,
   "metadata": {},
   "outputs": [
    {
     "name": "stdout",
     "output_type": "stream",
     "text": [
      "0    1\n",
      "1    2\n",
      "2    3\n",
      "3    4\n",
      "4    5\n",
      "5    6\n",
      "dtype: int64 0    1.0\n",
      "1    2.0\n",
      "2    3.0\n",
      "3    4.0\n",
      "4    5.0\n",
      "5    6.0\n",
      "dtype: float64\n"
     ]
    }
   ],
   "source": [
    "# Note use of Numpy (np):\n",
    "ser1 = ser.astype(np.float64)\n",
    "\n",
    "print(ser, ser1)"
   ]
  },
  {
   "cell_type": "code",
   "execution_count": 10,
   "metadata": {},
   "outputs": [
    {
     "name": "stdout",
     "output_type": "stream",
     "text": [
      "aa    10\n",
      "bb    11\n",
      "cc    21\n",
      "dd    22\n",
      "dtype: int64\n"
     ]
    }
   ],
   "source": [
    "# Create series with an index:\n",
    "ser2 = pd.Series([10,11,21,22], index=['aa', 'bb', 'cc', 'dd'])\n",
    "\n",
    "print(ser2)"
   ]
  },
  {
   "cell_type": "code",
   "execution_count": 11,
   "metadata": {},
   "outputs": [
    {
     "name": "stdout",
     "output_type": "stream",
     "text": [
      "aa 15\n",
      "bb 16\n",
      "cc 26\n",
      "dd 27\n"
     ]
    }
   ],
   "source": [
    "for x in ser2.index:\n",
    "    ser2[x] += 5\n",
    "    print(x, ser2[x])"
   ]
  },
  {
   "cell_type": "markdown",
   "metadata": {},
   "source": [
    "<B>Selection of entries by \"index\" (a key) or integer offest.  Offsets start at 0 (zero)</B>"
   ]
  },
  {
   "cell_type": "code",
   "execution_count": 12,
   "metadata": {},
   "outputs": [
    {
     "name": "stdout",
     "output_type": "stream",
     "text": [
      "26\n",
      "26\n",
      "26\n"
     ]
    }
   ],
   "source": [
    "elem_2 = ser2.loc['cc']\n",
    "print(elem_2)\n",
    "\n",
    "elem_2 = ser2.iloc[2]\n",
    "print(elem_2)\n",
    "\n",
    "# Also ... which is same as the \"key\" index above.\n",
    "# This is a problem when the index is an integer!\n",
    "print(ser2['cc'])"
   ]
  },
  {
   "cell_type": "markdown",
   "metadata": {},
   "source": [
    "<B>Vectoried selection:</B>"
   ]
  },
  {
   "cell_type": "code",
   "execution_count": 13,
   "metadata": {},
   "outputs": [
    {
     "name": "stdout",
     "output_type": "stream",
     "text": [
      "15 16\n",
      "15 16\n",
      "\n",
      "bb    16\n",
      "cc    26\n",
      "dd    27\n",
      "dtype: int64\n"
     ]
    }
   ],
   "source": [
    "el_1, el_2 = ser2[['aa', 'bb']]\n",
    "print(el_1, el_2)\n",
    "\n",
    "el_1, el_2 = ser2.iloc[[0,1]]\n",
    "print(el_1, el_2)\n",
    "\n",
    "print()\n",
    "\n",
    "# But with integer location can do indexing..\n",
    "print(ser2[1:4])"
   ]
  },
  {
   "cell_type": "code",
   "execution_count": 14,
   "metadata": {},
   "outputs": [
    {
     "data": {
      "text/plain": [
       "aa    15\n",
       "bb    16\n",
       "cc    26\n",
       "dd    27\n",
       "dtype: int64"
      ]
     },
     "execution_count": 14,
     "metadata": {},
     "output_type": "execute_result"
    }
   ],
   "source": [
    "ser2"
   ]
  },
  {
   "cell_type": "code",
   "execution_count": 15,
   "metadata": {},
   "outputs": [
    {
     "data": {
      "text/plain": [
       "aa    False\n",
       "bb     True\n",
       "cc     True\n",
       "dd    False\n",
       "dtype: bool"
      ]
     },
     "execution_count": 15,
     "metadata": {},
     "output_type": "execute_result"
    }
   ],
   "source": [
    "idx = (ser2 > 15) & (ser2 < 27)\n",
    "idx"
   ]
  },
  {
   "cell_type": "markdown",
   "metadata": {},
   "source": [
    "<B>Vectoried operations</B>"
   ]
  },
  {
   "cell_type": "code",
   "execution_count": 17,
   "metadata": {},
   "outputs": [
    {
     "data": {
      "text/plain": [
       "aa    15\n",
       "bb    48\n",
       "cc    78\n",
       "dd    27\n",
       "dtype: int64"
      ]
     },
     "execution_count": 17,
     "metadata": {},
     "output_type": "execute_result"
    }
   ],
   "source": [
    "ser2[idx] = ser2[idx] * 3\n",
    "ser2"
   ]
  },
  {
   "cell_type": "markdown",
   "metadata": {},
   "source": [
    "## Missing data\n"
   ]
  },
  {
   "cell_type": "code",
   "execution_count": 37,
   "metadata": {},
   "outputs": [
    {
     "data": {
      "text/plain": [
       "a      10\n",
       "b      20\n",
       "c      30\n",
       "d    <NA>\n",
       "e      50\n",
       "dtype: Int64"
      ]
     },
     "execution_count": 37,
     "metadata": {},
     "output_type": "execute_result"
    }
   ],
   "source": [
    "# Note: That an unknown value is defined using Numpy NAN.\n",
    "#.      If we have a null and don't explicitly say dtype='Int64' we get floats not Ints!!\n",
    "ser_1 = pd.Series([10,20,30,np.nan,50], index = list(\"abcde\"), dtype=\"Int64\")\n",
    "ser_1"
   ]
  },
  {
   "cell_type": "code",
   "execution_count": 38,
   "metadata": {},
   "outputs": [
    {
     "data": {
      "text/plain": [
       "a    False\n",
       "b    False\n",
       "c    False\n",
       "d     True\n",
       "e    False\n",
       "dtype: bool"
      ]
     },
     "execution_count": 38,
     "metadata": {},
     "output_type": "execute_result"
    }
   ],
   "source": [
    "ser_1.isnull()"
   ]
  },
  {
   "cell_type": "code",
   "execution_count": 39,
   "metadata": {},
   "outputs": [
    {
     "data": {
      "text/plain": [
       "a     True\n",
       "b     True\n",
       "c     True\n",
       "d    False\n",
       "e     True\n",
       "dtype: bool"
      ]
     },
     "execution_count": 39,
     "metadata": {},
     "output_type": "execute_result"
    }
   ],
   "source": [
    "ser_1.notnull()"
   ]
  },
  {
   "cell_type": "code",
   "execution_count": 40,
   "metadata": {},
   "outputs": [
    {
     "data": {
      "text/plain": [
       "a      10\n",
       "b      20\n",
       "c      30\n",
       "d    1122\n",
       "e      50\n",
       "dtype: Int64"
      ]
     },
     "execution_count": 40,
     "metadata": {},
     "output_type": "execute_result"
    }
   ],
   "source": [
    "ser_1[ser_1.isnull()] = 1122\n",
    "ser_1"
   ]
  },
  {
   "cell_type": "markdown",
   "metadata": {},
   "source": [
    "<B>Check how pandas does index alignment, when two series not compatible in length and/or have nulls (i.e. NaN)</B>"
   ]
  },
  {
   "cell_type": "code",
   "execution_count": 46,
   "metadata": {},
   "outputs": [
    {
     "data": {
      "text/plain": [
       "a    22\n",
       "b    33\n",
       "c    44\n",
       "d    55\n",
       "e    66\n",
       "f    77\n",
       "dtype: int64"
      ]
     },
     "execution_count": 46,
     "metadata": {},
     "output_type": "execute_result"
    }
   ],
   "source": [
    "ser_1 = pd.Series([10,20,30,np.nan,50], index = list(\"abcde\"), dtype=\"Int64\")\n",
    "ser_1a = pd.Series([22,33,44,55,66,77], list(\"abcdef\"))\n",
    "ser_1a"
   ]
  },
  {
   "cell_type": "code",
   "execution_count": 47,
   "metadata": {},
   "outputs": [
    {
     "data": {
      "text/plain": [
       "a      20\n",
       "b      40\n",
       "c      60\n",
       "d    <NA>\n",
       "e     100\n",
       "dtype: Int64"
      ]
     },
     "execution_count": 47,
     "metadata": {},
     "output_type": "execute_result"
    }
   ],
   "source": [
    "ser_1 + ser_1"
   ]
  },
  {
   "cell_type": "code",
   "execution_count": 48,
   "metadata": {},
   "outputs": [
    {
     "data": {
      "text/plain": [
       "a      32\n",
       "b      53\n",
       "c      74\n",
       "d    <NA>\n",
       "e     116\n",
       "f    <NA>\n",
       "dtype: Int64"
      ]
     },
     "execution_count": 48,
     "metadata": {},
     "output_type": "execute_result"
    }
   ],
   "source": [
    "ser_1 + ser_1a"
   ]
  },
  {
   "cell_type": "code",
   "execution_count": null,
   "metadata": {},
   "outputs": [],
   "source": []
  }
 ],
 "metadata": {
  "kernelspec": {
   "display_name": "Python 3",
   "language": "python",
   "name": "python3"
  },
  "language_info": {
   "codemirror_mode": {
    "name": "ipython",
    "version": 3
   },
   "file_extension": ".py",
   "mimetype": "text/x-python",
   "name": "python",
   "nbconvert_exporter": "python",
   "pygments_lexer": "ipython3",
   "version": "3.7.7"
  }
 },
 "nbformat": 4,
 "nbformat_minor": 4
}
