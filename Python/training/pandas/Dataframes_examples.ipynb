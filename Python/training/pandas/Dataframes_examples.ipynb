{
 "cells": [
  {
   "cell_type": "code",
   "execution_count": 1,
   "metadata": {},
   "outputs": [],
   "source": [
    "import numpy as np\n",
    "import pandas as pd"
   ]
  },
  {
   "cell_type": "code",
   "execution_count": 5,
   "metadata": {},
   "outputs": [
    {
     "data": {
      "text/html": [
       "<div>\n",
       "<style scoped>\n",
       "    .dataframe tbody tr th:only-of-type {\n",
       "        vertical-align: middle;\n",
       "    }\n",
       "\n",
       "    .dataframe tbody tr th {\n",
       "        vertical-align: top;\n",
       "    }\n",
       "\n",
       "    .dataframe thead th {\n",
       "        text-align: right;\n",
       "    }\n",
       "</style>\n",
       "<table border=\"1\" class=\"dataframe\">\n",
       "  <thead>\n",
       "    <tr style=\"text-align: right;\">\n",
       "      <th></th>\n",
       "      <th>ticker</th>\n",
       "      <th>date</th>\n",
       "      <th>open</th>\n",
       "    </tr>\n",
       "  </thead>\n",
       "  <tbody>\n",
       "    <tr>\n",
       "      <th>0</th>\n",
       "      <td>AA</td>\n",
       "      <td>2015-10-12</td>\n",
       "      <td>426.50</td>\n",
       "    </tr>\n",
       "    <tr>\n",
       "      <th>1</th>\n",
       "      <td>BB</td>\n",
       "      <td>2016-11-12</td>\n",
       "      <td>40.55</td>\n",
       "    </tr>\n",
       "    <tr>\n",
       "      <th>2</th>\n",
       "      <td>CC</td>\n",
       "      <td>2017-12-12</td>\n",
       "      <td>123.77</td>\n",
       "    </tr>\n",
       "    <tr>\n",
       "      <th>3</th>\n",
       "      <td>DD</td>\n",
       "      <td>2018-01-12</td>\n",
       "      <td>9.10</td>\n",
       "    </tr>\n",
       "  </tbody>\n",
       "</table>\n",
       "</div>"
      ],
      "text/plain": [
       "  ticker        date    open\n",
       "0     AA  2015-10-12  426.50\n",
       "1     BB  2016-11-12   40.55\n",
       "2     CC  2017-12-12  123.77\n",
       "3     DD  2018-01-12    9.10"
      ]
     },
     "execution_count": 5,
     "metadata": {},
     "output_type": "execute_result"
    }
   ],
   "source": [
    "# Create DF fromn dictionary of lists.  All lists must be the same length\n",
    "dict_data = {'ticker': ['AA', 'BB', 'CC', 'DD'],\n",
    "             'date': ['2015-10-12', '2016-11-12', '2017-12-12', '2018-01-12'],\n",
    "             'open': [426.5, 40.55, 123.77, 9.10]}\n",
    "df_1 = pd.DataFrame(dict_data)\n",
    "\n",
    "df_1"
   ]
  },
  {
   "cell_type": "code",
   "execution_count": 11,
   "metadata": {},
   "outputs": [
    {
     "name": "stdout",
     "output_type": "stream",
     "text": [
      "  ticker        date  open\n",
      "0    AAA  2014-05-05   111\n",
      "1    BBB  2015-05-05   121\n",
      "2    CCC  2016-05-05   131\n",
      "3    DDD  2017-05-05   141\n",
      "   open        date ticker\n",
      "0   111  2014-05-05    AAA\n",
      "1   121  2015-05-05    BBB\n",
      "2   131  2016-05-05    CCC\n",
      "3   141  2017-05-05    DDD\n"
     ]
    }
   ],
   "source": [
    "# Create df from list of dicts:\n",
    "list_data = [\n",
    "    {'ticker': 'AAA', 'date': '2014-05-05', 'open': 111},\n",
    "    {'ticker': 'BBB', 'date': '2015-05-05', 'open': 121},\n",
    "    {'ticker': 'CCC', 'date': '2016-05-05', 'open': 131},\n",
    "    {'ticker': 'DDD', 'date': '2017-05-05', 'open': 141}\n",
    "]\n",
    "df_2 = pd.DataFrame(list_data)\n",
    "\n",
    "df_3 = pd.DataFrame(list_data, columns=['open', 'date', 'ticker'])\n",
    "\n",
    "print(df_2)\n",
    "print(df_3)"
   ]
  },
  {
   "cell_type": "code",
   "execution_count": null,
   "metadata": {},
   "outputs": [],
   "source": []
  }
 ],
 "metadata": {
  "kernelspec": {
   "display_name": "Python 3",
   "language": "python",
   "name": "python3"
  },
  "language_info": {
   "codemirror_mode": {
    "name": "ipython",
    "version": 3
   },
   "file_extension": ".py",
   "mimetype": "text/x-python",
   "name": "python",
   "nbconvert_exporter": "python",
   "pygments_lexer": "ipython3",
   "version": "3.7.7"
  }
 },
 "nbformat": 4,
 "nbformat_minor": 4
}
