{
 "cells": [
  {
   "cell_type": "code",
   "execution_count": 30,
   "metadata": {
    "scrolled": true
   },
   "outputs": [],
   "source": [
    "import numpy as np\n",
    "import pandas as pd\n",
    "\n",
    "import utils as ut\n",
    "import main as mn"
   ]
  },
  {
   "cell_type": "code",
   "execution_count": 3,
   "metadata": {
    "scrolled": true
   },
   "outputs": [],
   "source": [
    "#data = pd.read_csv('reviews1_train.tsv', sep='\\t', header=0)"
   ]
  },
  {
   "cell_type": "code",
   "execution_count": 40,
   "metadata": {
    "scrolled": false
   },
   "outputs": [
    {
     "name": "stdout",
     "output_type": "stream",
     "text": [
      "['i', 'me', 'my', 'myself', 'we', 'our', 'ours', 'ourselves', 'you', 'your', 'yours', 'yourself', 'yourselves', 'he', 'him', 'his', 'himself', 'she', 'her', 'hers', 'herself', 'it', 'its', 'itself', 'they', 'them', 'their', 'theirs', 'themselves', 'what', 'which', 'who', 'whom', 'this', 'that', 'these', 'those', 'am', 'is', 'are', 'was', 'were', 'be', 'been', 'being', 'have', 'has', 'had', 'having', 'do', 'does', 'did', 'doing', 'a', 'an', 'the', 'and', 'but', 'if', 'or', 'because', 'as', 'until', 'while', 'of', 'at', 'by', 'for', 'with', 'about', 'against', 'between', 'into', 'through', 'during', 'before', 'after', 'above', 'below', 'to', 'from', 'up', 'down', 'in', 'out', 'on', 'off', 'over', 'under', 'again', 'further', 'then', 'once', 'here', 'there', 'when', 'where', 'why', 'how', 'all', 'any', 'both', 'each', 'few', 'more', 'most', 'other', 'some', 'such', 'no', 'nor', 'not', 'only', 'own', 'same', 'so', 'than', 'too', 'very', 's', 't', 'can', 'will', 'just', 'don', 'should', 'now']\n",
      "127\n"
     ]
    }
   ],
   "source": [
    "text_file = open(\"./stopwords.txt\", \"r\")\n",
    "lines = [x.strip() for x in text_file.readlines()]\n",
    "print(lines)\n",
    "print(len(lines))\n",
    "text_file.close()"
   ]
  },
  {
   "cell_type": "code",
   "execution_count": 35,
   "metadata": {},
   "outputs": [
    {
     "data": {
      "text/plain": [
       "[OrderedDict(),\n",
       " OrderedDict(),\n",
       " OrderedDict(),\n",
       " OrderedDict(),\n",
       " OrderedDict(),\n",
       " OrderedDict(),\n",
       " OrderedDict(),\n",
       " OrderedDict(),\n",
       " OrderedDict(),\n",
       " OrderedDict(),\n",
       " OrderedDict(),\n",
       " OrderedDict(),\n",
       " OrderedDict(),\n",
       " OrderedDict(),\n",
       " OrderedDict(),\n",
       " OrderedDict(),\n",
       " OrderedDict(),\n",
       " OrderedDict(),\n",
       " OrderedDict(),\n",
       " OrderedDict(),\n",
       " OrderedDict(),\n",
       " OrderedDict(),\n",
       " OrderedDict(),\n",
       " OrderedDict(),\n",
       " OrderedDict(),\n",
       " OrderedDict(),\n",
       " OrderedDict(),\n",
       " OrderedDict(),\n",
       " OrderedDict(),\n",
       " OrderedDict(),\n",
       " OrderedDict(),\n",
       " OrderedDict(),\n",
       " OrderedDict(),\n",
       " OrderedDict(),\n",
       " OrderedDict(),\n",
       " OrderedDict(),\n",
       " OrderedDict(),\n",
       " OrderedDict(),\n",
       " OrderedDict(),\n",
       " OrderedDict(),\n",
       " OrderedDict(),\n",
       " OrderedDict(),\n",
       " OrderedDict(),\n",
       " OrderedDict(),\n",
       " OrderedDict(),\n",
       " OrderedDict(),\n",
       " OrderedDict(),\n",
       " OrderedDict(),\n",
       " OrderedDict(),\n",
       " OrderedDict(),\n",
       " OrderedDict(),\n",
       " OrderedDict(),\n",
       " OrderedDict(),\n",
       " OrderedDict(),\n",
       " OrderedDict(),\n",
       " OrderedDict(),\n",
       " OrderedDict(),\n",
       " OrderedDict(),\n",
       " OrderedDict(),\n",
       " OrderedDict(),\n",
       " OrderedDict(),\n",
       " OrderedDict(),\n",
       " OrderedDict(),\n",
       " OrderedDict(),\n",
       " OrderedDict(),\n",
       " OrderedDict(),\n",
       " OrderedDict(),\n",
       " OrderedDict(),\n",
       " OrderedDict(),\n",
       " OrderedDict(),\n",
       " OrderedDict(),\n",
       " OrderedDict(),\n",
       " OrderedDict(),\n",
       " OrderedDict(),\n",
       " OrderedDict(),\n",
       " OrderedDict(),\n",
       " OrderedDict(),\n",
       " OrderedDict(),\n",
       " OrderedDict(),\n",
       " OrderedDict(),\n",
       " OrderedDict(),\n",
       " OrderedDict(),\n",
       " OrderedDict(),\n",
       " OrderedDict(),\n",
       " OrderedDict(),\n",
       " OrderedDict(),\n",
       " OrderedDict(),\n",
       " OrderedDict(),\n",
       " OrderedDict(),\n",
       " OrderedDict(),\n",
       " OrderedDict(),\n",
       " OrderedDict(),\n",
       " OrderedDict(),\n",
       " OrderedDict(),\n",
       " OrderedDict(),\n",
       " OrderedDict(),\n",
       " OrderedDict(),\n",
       " OrderedDict(),\n",
       " OrderedDict(),\n",
       " OrderedDict(),\n",
       " OrderedDict(),\n",
       " OrderedDict(),\n",
       " OrderedDict(),\n",
       " OrderedDict(),\n",
       " OrderedDict(),\n",
       " OrderedDict(),\n",
       " OrderedDict(),\n",
       " OrderedDict(),\n",
       " OrderedDict(),\n",
       " OrderedDict(),\n",
       " OrderedDict(),\n",
       " OrderedDict(),\n",
       " OrderedDict(),\n",
       " OrderedDict(),\n",
       " OrderedDict(),\n",
       " OrderedDict(),\n",
       " OrderedDict(),\n",
       " OrderedDict(),\n",
       " OrderedDict(),\n",
       " OrderedDict(),\n",
       " OrderedDict(),\n",
       " OrderedDict(),\n",
       " OrderedDict(),\n",
       " OrderedDict(),\n",
       " OrderedDict(),\n",
       " OrderedDict()]"
      ]
     },
     "execution_count": 35,
     "metadata": {},
     "output_type": "execute_result"
    }
   ],
   "source": []
  },
  {
   "cell_type": "code",
   "execution_count": 20,
   "metadata": {},
   "outputs": [],
   "source": [
    "def classify(feature_matrix, theta, theta_0):\n",
    "    \"\"\"\n",
    "    A classification function that uses theta and theta_0 to classify a set of\n",
    "    data points.\n",
    "\n",
    "    Args:\n",
    "        feature_matrix - A numpy matrix describing the given data. Each row\n",
    "            represents a single data point.\n",
    "                theta - A numpy array describing the linear classifier.\n",
    "        theta - A numpy array describing the linear classifier.\n",
    "        theta_0 - A real valued number representing the offset parameter.\n",
    "\n",
    "    Returns: A numpy array of 1s and -1s where the kth element of the array is\n",
    "    the predicted classification of the kth row of the feature matrix using the\n",
    "    given theta and theta_0. If a prediction is GREATER THAN zero, it should\n",
    "    be considered a positive classification.\n",
    "    \"\"\"\n",
    "    # Your code here\n",
    "    tolerance = 0.000001\n",
    "\n",
    "    classification = np.matmul(feature_matrix, theta) + theta_0\n",
    "    classification[classification >= tolerance] = 1\n",
    "    classification[classification < tolerance]  = -1\n",
    "\n",
    "    return classification"
   ]
  },
  {
   "cell_type": "code",
   "execution_count": 21,
   "metadata": {},
   "outputs": [],
   "source": [
    "feature_matrix = np.array([[1,1,1,1],[2,-1,-1,-1],[1,1,-2,0]])\n",
    "theta          = np.array([1,1,1,1])\n",
    "theta_0        = -1"
   ]
  },
  {
   "cell_type": "code",
   "execution_count": 22,
   "metadata": {},
   "outputs": [
    {
     "data": {
      "text/plain": [
       "array([ 1, -1, -1])"
      ]
     },
     "execution_count": 22,
     "metadata": {},
     "output_type": "execute_result"
    }
   ],
   "source": [
    "classify(feature_matrix, theta, theta_0)"
   ]
  },
  {
   "cell_type": "code",
   "execution_count": 23,
   "metadata": {},
   "outputs": [],
   "source": [
    "def accuracy(preds, targets):\n",
    "    \"\"\"\n",
    "    Given length-N vectors containing predicted and target labels,\n",
    "    returns the percentage and number of correct predictions.\n",
    "    \"\"\"\n",
    "    return (preds == targets).mean()"
   ]
  },
  {
   "cell_type": "code",
   "execution_count": 28,
   "metadata": {},
   "outputs": [],
   "source": [
    "def classifier_accuracy(\n",
    "        classifier,\n",
    "        train_feature_matrix,\n",
    "        val_feature_matrix,\n",
    "        train_labels,\n",
    "        val_labels,\n",
    "        **kwargs):\n",
    "    \"\"\"\n",
    "    Trains a linear classifier and computes accuracy.\n",
    "    The classifier is trained on the train data. The classifier's\n",
    "    accuracy on the train and validation data is then returned.\n",
    "\n",
    "    Args:\n",
    "        classifier - A classifier function that takes arguments\n",
    "            (feature matrix, labels, **kwargs) and returns (theta, theta_0)\n",
    "        train_feature_matrix - A numpy matrix describing the training\n",
    "            data. Each row represents a single data point.\n",
    "        val_feature_matrix - A numpy matrix describing the training\n",
    "            data. Each row represents a single data point.\n",
    "        train_labels - A numpy array where the kth element of the array\n",
    "            is the correct classification of the kth row of the training\n",
    "            feature matrix.\n",
    "        val_labels - A numpy array where the kth element of the array\n",
    "            is the correct classification of the kth row of the validation\n",
    "            feature matrix.\n",
    "        **kwargs - Additional named arguments to pass to the classifier\n",
    "            (e.g. T or L)\n",
    "\n",
    "    Returns: A tuple in which the first element is the (scalar) accuracy of the\n",
    "    trained classifier on the training data and the second element is the\n",
    "    accuracy of the trained classifier on the validation data.\n",
    "    \"\"\"\n",
    "    # Your code here\n",
    "    theta, theta_0 = classifier(train_feature_matrix, train_labels, **kwargs)\n",
    "\n",
    "    results_train  = classify(train_feature_matrix, theta, theta_0)\n",
    "    results_valid  = classify(val_feature_matrix, theta, theta_0)\n",
    "\n",
    "    acc_train      = accuracy(results_train, train_labels)\n",
    "    acc_val        = accuracy(results_valid, val_labels)\n",
    "\n",
    "    return (acc_train, acc_val)"
   ]
  },
  {
   "cell_type": "code",
   "execution_count": 27,
   "metadata": {
    "scrolled": true
   },
   "outputs": [
    {
     "name": "stdout",
     "output_type": "stream",
     "text": [
      "{'T': 6, 'L': 7}\n"
     ]
    }
   ],
   "source": [
    "classifier_accuracy(None,None,None,None,None, T=6, L=7)"
   ]
  },
  {
   "cell_type": "code",
   "execution_count": null,
   "metadata": {},
   "outputs": [],
   "source": []
  }
 ],
 "metadata": {
  "kernelspec": {
   "display_name": "Python 3",
   "language": "python",
   "name": "python3"
  },
  "language_info": {
   "codemirror_mode": {
    "name": "ipython",
    "version": 3
   },
   "file_extension": ".py",
   "mimetype": "text/x-python",
   "name": "python",
   "nbconvert_exporter": "python",
   "pygments_lexer": "ipython3",
   "version": "3.7.3"
  }
 },
 "nbformat": 4,
 "nbformat_minor": 2
}
